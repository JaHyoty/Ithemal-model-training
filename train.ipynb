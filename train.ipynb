{
 "cells": [
  {
   "cell_type": "code",
   "execution_count": 1,
   "id": "b3254869",
   "metadata": {},
   "outputs": [
    {
     "name": "stdout",
     "output_type": "stream",
     "text": [
      "env: PYTORCH_ENABLE_MPS_FALLBACK=1\n"
     ]
    }
   ],
   "source": [
    "%env PYTORCH_ENABLE_MPS_FALLBACK = 1"
   ]
  },
  {
   "cell_type": "code",
   "execution_count": 2,
   "id": "83c66017",
   "metadata": {},
   "outputs": [],
   "source": [
    "import torch\n",
    "import re\n",
    "import os\n",
    "import torch.nn as nn\n",
    "from sklearn.model_selection import train_test_split\n",
    "from torch.utils.data import Dataset, DataLoader"
   ]
  },
  {
   "cell_type": "code",
   "execution_count": 3,
   "id": "48205de3",
   "metadata": {},
   "outputs": [],
   "source": [
    "data = torch.load(\"data/bhive_hsw.data\")\n",
    "data = [data_point for data_point in data if data_point[3] != None]"
   ]
  },
  {
   "cell_type": "code",
   "execution_count": 4,
   "id": "cce00125",
   "metadata": {},
   "outputs": [],
   "source": [
    "def transform_xml(block: str):\n",
    "    block = block.removeprefix(\"<block>\").removesuffix(\"</block>\")\n",
    "    instructions = [\n",
    "        instruction.removesuffix(\"</instr>\")\n",
    "        for instruction in block.split(\"<instr>\")\n",
    "        if instruction != \"\"\n",
    "    ]\n",
    "    instructions = [\n",
    "        [code for code in re.split(r\"[<>]\", instruction) if code != \"\"]\n",
    "        for instruction in instructions\n",
    "    ]\n",
    "    return instructions"
   ]
  },
  {
   "cell_type": "code",
   "execution_count": 5,
   "id": "51163824",
   "metadata": {},
   "outputs": [],
   "source": [
    "y = [data_point[1] for data_point in data]\n",
    "X = [transform_xml(data_point[3]) for data_point in data]\n",
    "valid_indices = [\n",
    "    i\n",
    "    for i, block_data in enumerate(X)\n",
    "    if block_data and any(instr for instr in block_data)\n",
    "]\n",
    "X = [X[i] for i in valid_indices]\n",
    "y = [torch.tensor([y[i]], dtype=torch.float32) for i in valid_indices]\n",
    "\n",
    "X = X[:10000]\n",
    "y = y[:10000]\n",
    "\n",
    "X_train, X_test, y_train, y_test = train_test_split(\n",
    "    X, y, test_size=0.2, random_state=42\n",
    ")"
   ]
  },
  {
   "cell_type": "code",
   "execution_count": 8,
   "id": "4032e934",
   "metadata": {},
   "outputs": [],
   "source": [
    "instruction_set = set(\n",
    "    [word for data_point in X for instruction in data_point for word in instruction]\n",
    ")\n",
    "vocab_map = {\"<PAD>\": 0, \"<UNK>\": 1}\n",
    "vocab_counter = 2\n",
    "for word in instruction_set:\n",
    "    if word not in vocab_map:\n",
    "        vocab_map[word] = vocab_counter\n",
    "        vocab_counter += 1\n",
    "VOCAB_SIZE = len(vocab_map)\n",
    "PADDING_IDX = vocab_map[\"<PAD>\"]\n",
    "\n",
    "\n",
    "def tokens_to_ids_func(tokens_list, local_vocab_map):\n",
    "    return torch.tensor(\n",
    "        [local_vocab_map.get(token, local_vocab_map[\"<UNK>\"]) for token in tokens_list],\n",
    "        dtype=torch.long,\n",
    "    )"
   ]
  },
  {
   "cell_type": "code",
   "execution_count": null,
   "id": "a03e8467",
   "metadata": {},
   "outputs": [
    {
     "name": "stdout",
     "output_type": "stream",
     "text": [
      "tensor([ 25,  81,  58,  19, 180, 257,  23, 208,  24, 180, 102,  23, 106])\n",
      "tensor([ 25, 305,  58,  19, 180,  99, 225, 100, 107, 288, 115,  62, 169,  23,\n",
      "        208,  24, 180, 257,  23, 106])\n",
      "tensor([ 25, 305,  58,  19, 180,  99, 225, 100, 107, 288, 115,  62, 169,  23,\n",
      "        208,  24, 180, 187,  23, 106])\n",
      "tensor([ 25, 305,  58,  19, 180,  99, 225, 100, 107, 288, 115,  62, 169,  23,\n",
      "        208,  24, 180, 268,  23, 106])\n",
      "tensor([ 25, 305,  58,  19, 180,  99, 225, 100, 107, 288, 115,  62, 169,  23,\n",
      "        208,  24, 180, 245,  23, 106])\n",
      "tensor([ 25, 148,  58,  19, 180,  99, 225, 187, 107,  90, 121, 320, 169,  23,\n",
      "        208,  24, 180, 278,  23, 106])\n",
      "tensor([ 25,  81,  58,  19, 180, 102,  23, 208,  24, 180, 257,  23, 106])\n",
      "tensor([ 25, 108,  58,  19, 180, 278,  23, 180, 121,  23, 208,  24, 106])\n"
     ]
    }
   ],
   "source": [
    "# for i in range(len(X[10])):\n",
    "#     print(tokens_to_ids_func(X[10][i], local_vocab_map=vocab_map))"
   ]
  },
  {
   "cell_type": "code",
   "execution_count": 15,
   "id": "8ccc294a",
   "metadata": {},
   "outputs": [],
   "source": [
    "class InstructionDataset(Dataset):\n",
    "    def __init__(self, features, labels):\n",
    "        self.features = features\n",
    "        self.labels = labels\n",
    "\n",
    "    def __len__(self):\n",
    "        return len(self.features)\n",
    "\n",
    "    def __getitem__(self, idx):\n",
    "        return self.features[idx], self.labels[idx]\n",
    "\n",
    "\n",
    "train_dataset = InstructionDataset(X_train, y_train)\n",
    "test_dataset = InstructionDataset(X_test, y_test)"
   ]
  },
  {
   "cell_type": "code",
   "execution_count": null,
   "id": "5eaa26ed",
   "metadata": {},
   "outputs": [],
   "source": [
    "class Ithemal(nn.Module):\n",
    "    def __init__(self, vocab_size, embedding_size, hidden_size, padding_idx_val=0):\n",
    "        super().__init__()\n",
    "        self.vocab_size = vocab_size\n",
    "        self.embedding_size = embedding_size\n",
    "        self.hidden_size = hidden_size\n",
    "        self.padding_idx = padding_idx_val\n",
    "\n",
    "        self.embedding = nn.Embedding(\n",
    "            self.vocab_size, self.embedding_size, padding_idx=self.padding_idx\n",
    "        )\n",
    "        self.token_rnn = nn.LSTM(\n",
    "            self.embedding_size, self.hidden_size, batch_first=True\n",
    "        )\n",
    "        self.instr_rnn = nn.LSTM(self.hidden_size, self.hidden_size, batch_first=True)\n",
    "        self.linear = nn.Linear(self.hidden_size, 1)\n",
    "\n",
    "    def forward(self, basic_block_tokens, tokens_to_ids_converter):\n",
    "        device = self.embedding.weight.device\n",
    "\n",
    "        if not basic_block_tokens or not any(instr for instr in basic_block_tokens):\n",
    "            return torch.tensor([0.0], device=device, dtype=torch.float32)\n",
    "        instruction_representations = []\n",
    "        for tokens_in_instruction in basic_block_tokens:\n",
    "            if not tokens_in_instruction:\n",
    "                continue\n",
    "\n",
    "            token_ids = tokens_to_ids_converter(tokens_in_instruction).to(device)\n",
    "\n",
    "            embedded_tokens = self.embedding(token_ids).unsqueeze(0)\n",
    "            _, (h_n_token, _) = self.token_rnn(embedded_tokens)\n",
    "\n",
    "            instr_repr = h_n_token.squeeze(0).squeeze(0)\n",
    "            instruction_representations.append(instr_repr)\n",
    "        if not instruction_representations:\n",
    "            return torch.tensor([0.0], device=device, dtype=torch.float32)\n",
    "\n",
    "        # Shape before unsqueeze: (num_instructions_in_block, hidden_size)\n",
    "        # Add batch dim for instr_rnn: (1, num_instructions_in_block, hidden_size)\n",
    "        instr_input_tensor = torch.stack(instruction_representations).unsqueeze(0)\n",
    "        _, (h_n_block, _) = self.instr_rnn(instr_input_tensor)\n",
    "        block_repr = h_n_block.squeeze(0).squeeze(0)\n",
    "        output = self.linear(block_repr)\n",
    "        return output"
   ]
  },
  {
   "cell_type": "code",
   "execution_count": 10,
   "id": "2df3b680",
   "metadata": {},
   "outputs": [],
   "source": [
    "class MAPE_Loss(nn.Module):\n",
    "    def __init__(self, epsilon=1e-8):\n",
    "        super(MAPE_Loss, self).__init__()\n",
    "        self.epsilon = epsilon\n",
    "\n",
    "    def forward(self, y_pred, y_true):\n",
    "        if y_true.shape != y_pred.shape:\n",
    "            raise ValueError(\n",
    "                f\"y_true and y_pred must have the same shape, but got {y_true.shape} and {y_pred.shape}\"\n",
    "            )\n",
    "\n",
    "        absolute_percentage_error = torch.abs(\n",
    "            (y_true - y_pred) / (y_true + self.epsilon)\n",
    "        )\n",
    "        mape = torch.mean(absolute_percentage_error) * 100\n",
    "        return mape"
   ]
  },
  {
   "cell_type": "code",
   "execution_count": 11,
   "id": "938d7f1d",
   "metadata": {},
   "outputs": [],
   "source": [
    "class InstructionDataset(Dataset):\n",
    "    def __init__(self, features, labels):\n",
    "        self.features = features\n",
    "        self.labels = labels\n",
    "\n",
    "    def __len__(self):\n",
    "        return len(self.features)\n",
    "\n",
    "    def __getitem__(self, idx):\n",
    "        return self.features[idx], self.labels[idx]"
   ]
  },
  {
   "cell_type": "code",
   "execution_count": null,
   "id": "23b6654d",
   "metadata": {},
   "outputs": [
    {
     "ename": "",
     "evalue": "",
     "output_type": "error",
     "traceback": [
      "\u001b[1;31mThe Kernel crashed while executing code in the current cell or a previous cell. \n",
      "\u001b[1;31mPlease review the code in the cell(s) to identify a possible cause of the failure. \n",
      "\u001b[1;31mClick <a href='https://aka.ms/vscodeJupyterKernelCrash'>here</a> for more info. \n",
      "\u001b[1;31mView Jupyter <a href='command:jupyter.viewOutput'>log</a> for further details."
     ]
    }
   ],
   "source": [
    "def select_device():\n",
    "    if torch.cuda.is_available():\n",
    "        return \"cuda\"\n",
    "    elif torch.backends.mps.is_available():\n",
    "        return \"cpu\" # mps fails. I don't know why\n",
    "    else:\n",
    "        return \"cpu\""
   ]
  },
  {
   "cell_type": "code",
   "execution_count": null,
   "id": "dfbafa6b",
   "metadata": {},
   "outputs": [
    {
     "name": "stdout",
     "output_type": "stream",
     "text": [
      "Using device: mps\n",
      "Starting non-batch training...\n",
      "\n",
      "Epoch 1/5\n",
      "Training: Sample 9/8000, Loss: 99.8875"
     ]
    }
   ],
   "source": [
    "import torch\n",
    "import torch.nn as nn\n",
    "\n",
    "EMBEDDING_SIZE = 64\n",
    "HIDDEN_SIZE = 128\n",
    "LEARNING_RATE = 1e-3\n",
    "EPOCHS = 5\n",
    "\n",
    "device = select_device()\n",
    "print(f\"Using device: {device}\")\n",
    "model = Ithemal(VOCAB_SIZE, EMBEDDING_SIZE, HIDDEN_SIZE, PADDING_IDX).to(device)\n",
    "optimizer = torch.optim.Adam(model.parameters(), lr=LEARNING_RATE)\n",
    "\n",
    "criterion = MAPE_Loss()\n",
    "\n",
    "\n",
    "print(\"Starting non-batch training...\")\n",
    "for epoch in range(EPOCHS):\n",
    "    model.train()\n",
    "    total_train_loss = 0\n",
    "    print(f\"\\nEpoch {epoch+1}/{EPOCHS}\")\n",
    "    for i in range(len(train_dataset)):\n",
    "        block_token_lists, target = train_dataset[i]\n",
    "        target = target.to(device)\n",
    "\n",
    "        optimizer.zero_grad()\n",
    "\n",
    "        prediction = model(block_token_lists, lambda tokens: tokens_to_ids_func(tokens, vocab_map))\n",
    "        loss = criterion(prediction, target)\n",
    "\n",
    "        loss.backward()\n",
    "        optimizer.step()\n",
    "        total_train_loss += loss.item()\n",
    "\n",
    "        print(\n",
    "            f\"\\rTraining: Sample {i+1}/{len(train_dataset)}, Loss: {loss.item():.4f}\",\n",
    "            end=\"\",\n",
    "        )\n",
    "\n",
    "    avg_train_loss = (total_train_loss / len(train_dataset))\n",
    "    print(\n",
    "        f\"\\rEpoch {epoch+1} Average Training Loss: {avg_train_loss:.4f}       \"\n",
    "    )\n",
    "\n",
    "    model.eval()\n",
    "    total_test_loss = 0\n",
    "    with torch.no_grad():\n",
    "        for i in range(len(test_dataset)):\n",
    "            block_token_lists, target = test_dataset[i]\n",
    "            target = target.to(device)\n",
    "            prediction = model(\n",
    "                block_token_lists, lambda tokens: tokens_to_ids_func(tokens, vocab_map)\n",
    "            )\n",
    "            loss = criterion(prediction, target)\n",
    "            total_test_loss += loss.item()\n",
    "\n",
    "            print(\n",
    "                f\"\\rTesting: Sample {i+1}/{len(test_dataset)}, Loss: {loss.item():.4f}\",\n",
    "                end=\"\",\n",
    "            )\n",
    "\n",
    "    avg_test_loss = total_test_loss / len(test_dataset)\n",
    "    print(f\"\\rEpoch {epoch+1} Average Test Loss: {avg_test_loss:.4f}          \")\n",
    "\n",
    "print(\"\\nTraining finished.\")"
   ]
  },
  {
   "cell_type": "code",
   "execution_count": null,
   "id": "ba0d263c",
   "metadata": {},
   "outputs": [
    {
     "name": "stdout",
     "output_type": "stream",
     "text": [
      "Final model saved to models/final_ithemal_model.pth\n"
     ]
    }
   ],
   "source": [
    "model_save_dir = \"models/\"\n",
    "model_filename = \"final_ithemal_model.pth\"\n",
    "model_save_path = os.path.join(model_save_dir, model_filename)\n",
    "\n",
    "os.makedirs(model_save_dir, exist_ok=True)\n",
    "torch.save(model.state_dict(), model_save_path)\n",
    "print(f\"Final model saved to {model_save_path}\")"
   ]
  }
 ],
 "metadata": {
  "kernelspec": {
   "display_name": "cannabis-env",
   "language": "python",
   "name": "python3"
  },
  "language_info": {
   "codemirror_mode": {
    "name": "ipython",
    "version": 3
   },
   "file_extension": ".py",
   "mimetype": "text/x-python",
   "name": "python",
   "nbconvert_exporter": "python",
   "pygments_lexer": "ipython3",
   "version": "3.11.8"
  }
 },
 "nbformat": 4,
 "nbformat_minor": 5
}
